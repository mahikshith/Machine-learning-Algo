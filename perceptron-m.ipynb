{
 "cells": [
  {
   "cell_type": "code",
   "execution_count": 1,
   "id": "87a70a1d-1285-49df-b0f6-0d1428f87d57",
   "metadata": {},
   "outputs": [],
   "source": [
    "import numpy as np\n",
    "import matplotlib.pyplot as plt\n",
    "from sklearn import datasets"
   ]
  },
  {
   "cell_type": "code",
   "execution_count": null,
   "id": "e72b4173-d5c7-452b-ad88-b85200389443",
   "metadata": {},
   "outputs": [],
   "source": [
    "# dummy data"
   ]
  },
  {
   "cell_type": "code",
   "execution_count": 2,
   "id": "950d7ce9-f07a-4383-8085-2dfd0c203656",
   "metadata": {},
   "outputs": [],
   "source": [
    "x,y = datasets.make_blobs(n_samples=200,n_features=2,centers=2,center_box=(0,10))"
   ]
  },
  {
   "cell_type": "code",
   "execution_count": null,
   "id": "5b4e34f9-872c-489e-8b02-daf1c43ea5d7",
   "metadata": {},
   "outputs": [
    {
     "data": {
      "text/plain": [
       "(array([[ 2.31739364,  5.8808238 ],\n",
       "        [ 2.20378887,  4.97393398],\n",
       "        [ 1.72904334,  5.68379686],\n",
       "        [ 0.07350153,  5.39337666],\n",
       "        [10.82851095,  7.17123237],\n",
       "        [ 2.62947147,  6.18723735],\n",
       "        [ 1.06475276,  4.87939248],\n",
       "        [10.0346605 ,  6.93354488],\n",
       "        [ 8.07728285,  6.03472458],\n",
       "        [10.36207088,  6.32212521]]),\n",
       " array([0, 0, 0, 0, 1, 0, 0, 1, 1, 1]))"
      ]
     },
     "execution_count": 26,
     "metadata": {},
     "output_type": "execute_result"
    }
   ],
   "source": [
    "x[:10],y[:10]"
   ]
  },
  {
   "attachments": {},
   "cell_type": "markdown",
   "id": "dca284ce",
   "metadata": {},
   "source": [
    "Need to plot y =0 and y =1 seperately\n",
    "\n",
    "[first feature when y =0 , 2nd feature when y =0]\n",
    "\n",
    "[first feature when y =1 , 2nd feature when y =1]"
   ]
  },
  {
   "cell_type": "code",
   "execution_count": 51,
   "id": "4b95be84-c1e5-4341-b34f-2488564235f0",
   "metadata": {},
   "outputs": [
    {
     "data": {
      "image/png": "[encoded data removed]",
      "text/plain": [
       "<Figure size 640x480 with 1 Axes>"
      ]
     },
     "metadata": {},
     "output_type": "display_data"
    }
   ],
   "source": [
    "plt.scatter(x[:,0][y==0], x[:,1][y==0],color=\"red\")\n",
    "\n",
    "plt.scatter(x[:,0][y==1],x[:,1][y==1],color=\"blue\")\n",
    "\n",
    "plt.show()\n"
   ]
  },
  {
   "attachments": {},
   "cell_type": "markdown",
   "id": "cdf8a51f",
   "metadata": {},
   "source": [
    "Perceptron needs to be updated for every point, for miss-classified point we need to penalize with the sign of y\n",
    "\n",
    "That's why we need to multiply sign of y\n",
    "\n",
    "W1 = Wo + x * sign(y)"
   ]
  },
  {
   "cell_type": "code",
   "execution_count": 55,
   "id": "50de0e00",
   "metadata": {},
   "outputs": [],
   "source": [
    "# we need a line \n",
    "# y = slope * x + Y_ intercept\n",
    "def show(w,w0,x,y):\n",
    "    slope = -w[0]/ w[1]  # -a/b\n",
    "    intercept = w0 / w[1] # -c/b \n",
    "    h_x_plane = np.arange(10)\n",
    "    h_y_plane = slope *h_x_plane + intercept\n",
    "    plt.plot(h_x_plane,h_y_plane)\n",
    "    \n",
    "    plt.scatter(x[:,0][y==0], x[:,1][y==0],color=\"red\")\n",
    "\n",
    "    plt.scatter(x[:,0][y==1],x[:,1][y==1],color=\"blue\")\n",
    "\n",
    "    plt.show()\n",
    "\n",
    "    "
   ]
  },
  {
   "cell_type": "code",
   "execution_count": 54,
   "id": "7a79e8bf",
   "metadata": {},
   "outputs": [
    {
     "ename": "NameError",
     "evalue": "name 'w' is not defined",
     "output_type": "error",
     "traceback": [
      "\u001b[1;31m---------------------------------------------------------------------------\u001b[0m",
      "\u001b[1;31mNameError\u001b[0m                                 Traceback (most recent call last)",
      "\u001b[1;32mc:\\Users\\mahik\\Documents\\GitHub\\Machine-learning-Algo\\perceptron-m.ipynb Cell 9\u001b[0m in \u001b[0;36m<cell line: 1>\u001b[1;34m()\u001b[0m\n\u001b[1;32m----> <a href='vscode-notebook-cell:/c%3A/Users/mahik/Documents/GitHub/Machine-learning-Algo/perceptron-m.ipynb#X51sZmlsZQ%3D%3D?line=0'>1</a>\u001b[0m show(w,w0,x,y)\n",
      "\u001b[1;31mNameError\u001b[0m: name 'w' is not defined"
     ]
    }
   ],
   "source": []
  },
  {
   "cell_type": "code",
   "execution_count": null,
   "id": "79f4078a",
   "metadata": {},
   "outputs": [],
   "source": []
  },
  {
   "cell_type": "code",
   "execution_count": null,
   "id": "b17ae31c",
   "metadata": {},
   "outputs": [],
   "source": []
  },
  {
   "cell_type": "code",
   "execution_count": null,
   "id": "5778756d",
   "metadata": {},
   "outputs": [],
   "source": []
  },
  {
   "cell_type": "markdown",
   "id": "0725259e-09d0-4fba-a726-96292380c304",
   "metadata": {},
   "source": [
    "need to change the lable of y==0 to -1 (useful while multiplying the weights)"
   ]
  },
  {
   "cell_type": "code",
   "execution_count": 8,
   "id": "124a08b8-9370-460f-9a1a-00e30ca5b8cd",
   "metadata": {},
   "outputs": [],
   "source": [
    "y[y==0] = -1"
   ]
  },
  {
   "cell_type": "code",
   "execution_count": null,
   "id": "a89adbdd-2b1a-4746-b48c-90cafecea5f4",
   "metadata": {},
   "outputs": [],
   "source": [
    "ax+by+c=0\n",
    "y=-a/b x - c/b  "
   ]
  },
  {
   "cell_type": "markdown",
   "id": "4f9d4a57-5880-4695-9e41-da8d1496bba6",
   "metadata": {},
   "source": [
    "decision boundary draw plot"
   ]
  },
  {
   "cell_type": "code",
   "execution_count": 24,
   "id": "c43429f7-1a60-4d47-aac4-d9b930e14cad",
   "metadata": {},
   "outputs": [],
   "source": [
    "def show(w,w0,x,y):\n",
    "    slope = -w[0]/w[1]\n",
    "    intercept = -w0 / w[1]\n",
    "    hplane_x = np.arange(10)\n",
    "    hplane_y= slope * hplane_x + intercept\n",
    "    plt.plot(hplane_x,hplane_y)\n",
    "    plt.plot(x[:,0][y==-1],x[:,1][y==-1],\"bs\")\n",
    "    plt.plot(x[:, 0][y == 1], x[:, 1][y == 1], 'g^')\n",
    "    plt.show()"
   ]
  },
  {
   "cell_type": "markdown",
   "id": "6c17d2a1-0d77-417b-8237-a99cc431572d",
   "metadata": {},
   "source": [
    "Single point Algo"
   ]
  },
  {
   "cell_type": "code",
   "execution_count": null,
   "id": "e89b4d5e-96dd-47aa-853d-ebb2c2fb3805",
   "metadata": {},
   "outputs": [],
   "source": []
  },
  {
   "cell_type": "code",
   "execution_count": null,
   "id": "dc39ad35-78f3-4743-b624-e81c942b52d0",
   "metadata": {},
   "outputs": [],
   "source": []
  },
  {
   "cell_type": "code",
   "execution_count": null,
   "id": "ca9ebd50-329c-449c-974e-8473b884ee21",
   "metadata": {},
   "outputs": [],
   "source": []
  },
  {
   "cell_type": "code",
   "execution_count": null,
   "id": "4011c2d6-06ac-44c4-a68e-9034c65b6b9b",
   "metadata": {},
   "outputs": [],
   "source": []
  },
  {
   "cell_type": "code",
   "execution_count": null,
   "id": "db7f1c42-0383-479b-ae21-d00bf6a4decc",
   "metadata": {},
   "outputs": [],
   "source": []
  },
  {
   "cell_type": "markdown",
   "id": "39ad07bc",
   "metadata": {},
   "source": []
  },
  {
   "cell_type": "markdown",
   "id": "4cb34ee7",
   "metadata": {},
   "source": []
  },
  {
   "cell_type": "markdown",
   "id": "70c6b10e",
   "metadata": {},
   "source": []
  },
  {
   "cell_type": "code",
   "execution_count": null,
   "id": "a18e27d6",
   "metadata": {},
   "outputs": [],
   "source": []
  },
  {
   "cell_type": "code",
   "execution_count": null,
   "id": "305c7096",
   "metadata": {},
   "outputs": [],
   "source": []
  },
  {
   "cell_type": "code",
   "execution_count": null,
   "id": "824ff42c",
   "metadata": {},
   "outputs": [],
   "source": []
  },
  {
   "cell_type": "code",
   "execution_count": null,
   "id": "bea558f3",
   "metadata": {},
   "outputs": [],
   "source": []
  },
  {
   "cell_type": "code",
   "execution_count": null,
   "id": "234f6139",
   "metadata": {},
   "outputs": [],
   "source": []
  },
  {
   "cell_type": "code",
   "execution_count": null,
   "id": "16476b6a",
   "metadata": {},
   "outputs": [],
   "source": []
  },
  {
   "cell_type": "code",
   "execution_count": null,
   "id": "672f4887",
   "metadata": {},
   "outputs": [],
   "source": []
  },
  {
   "cell_type": "code",
   "execution_count": null,
   "id": "8f82ef81",
   "metadata": {},
   "outputs": [],
   "source": []
  },
  {
   "cell_type": "code",
   "execution_count": null,
   "id": "1c48d036-4641-4235-b5d8-74d5ef76ac51",
   "metadata": {},
   "outputs": [],
   "source": []
  }
 ],
 "metadata": {
  "kernelspec": {
   "display_name": "Python 3 (ipykernel)",
   "language": "python",
   "name": "python3"
  },
  "language_info": {
   "codemirror_mode": {
    "name": "ipython",
    "version": 3
   },
   "file_extension": ".py",
   "mimetype": "text/x-python",
   "name": "python",
   "nbconvert_exporter": "python",
   "pygments_lexer": "ipython3",
   "version": "3.10.7"
  }
 },
 "nbformat": 4,
 "nbformat_minor": 5
}
