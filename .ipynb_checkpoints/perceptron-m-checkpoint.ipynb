{
 "cells": [
  {
   "cell_type": "code",
   "execution_count": null,
   "id": "87a70a1d-1285-49df-b0f6-0d1428f87d57",
   "metadata": {},
   "outputs": [],
   "source": [
    "import numpy as np\n",
    "import matplotlib.pyplot as plt\n",
    "from sklearn import datasets"
   ]
  },
  {
   "cell_type": "code",
   "execution_count": null,
   "id": "a282a9b8-eaa5-49ae-8c64-500d262655bc",
   "metadata": {},
   "outputs": [
    {
     "name": "stdout",
     "output_type": "stream",
     "text": [
      "Collecting scikit-learn\n",
      "  Downloading scikit_learn-1.2.0-cp310-cp310-win_amd64.whl (8.2 MB)\n",
      "     ---------------------------------------- 8.2/8.2 MB 3.6 MB/s eta 0:00:00\n",
      "Collecting threadpoolctl>=2.0.0\n",
      "  Downloading threadpoolctl-3.1.0-py3-none-any.whl (14 kB)\n",
      "Requirement already satisfied: joblib>=1.1.1 in c:\\users\\mahik\\appdata\\local\\programs\\python\\python310\\lib\\site-packages (from scikit-learn) (1.2.0)\n",
      "Requirement already satisfied: scipy>=1.3.2 in c:\\users\\mahik\\appdata\\local\\programs\\python\\python310\\lib\\site-packages (from scikit-learn) (1.9.2)\n",
      "Requirement already satisfied: numpy>=1.17.3 in c:\\users\\mahik\\appdata\\local\\programs\\python\\python310\\lib\\site-packages (from scikit-learn) (1.23.3)\n",
      "Installing collected packages: threadpoolctl, scikit-learn\n",
      "Successfully installed scikit-learn-1.2.0 threadpoolctl-3.1.0\n",
      "Note: you may need to restart the kernel to use updated packages.\n"
     ]
    },
    {
     "name": "stderr",
     "output_type": "stream",
     "text": [
      "\n",
      "[notice] A new release of pip available: 22.2.2 -> 22.3.1\n",
      "[notice] To update, run: python.exe -m pip install --upgrade pip\n"
     ]
    }
   ],
   "source": []
  },
  {
   "cell_type": "code",
   "execution_count": null,
   "id": "4966b356-4b49-47eb-9e08-df9e13c6ccab",
   "metadata": {},
   "outputs": [],
   "source": []
  },
  {
   "cell_type": "code",
   "execution_count": 4,
   "id": "45ec05c6-d117-4610-bf7e-256f70cefb79",
   "metadata": {},
   "outputs": [],
   "source": [
    "x,y=datasets.make_blobs(n_samples=200 , n_features=2, centers=2 , center_box=(0,10))\n"
   ]
  },
  {
   "cell_type": "code",
   "execution_count": 5,
   "id": "fab615c6-bed1-42ed-9dc0-6d269de45f0d",
   "metadata": {},
   "outputs": [
    {
     "name": "stdout",
     "output_type": "stream",
     "text": [
      "[1 1 1 0 1 0 0 1 0 1 0 1 0 1 1 0 0 0 1 1 1 1 0 0 1 0 0 0 1 0 1 0 1 0 0 0 1\n",
      " 1 0 0 0 1 0 0 0 1 0 0 1 0 0 1 1 1 0 0 1 1 0 1 0 1 1 1 1 1 0 1 0 1 0 1 0 1\n",
      " 1 1 1 0 1 1 1 0 0 0 1 1 0 0 0 1 0 1 1 1 0 1 0 0 0 0 1 0 1 1 0 1 1 0 0 0 0\n",
      " 1 0 1 1 1 0 1 1 0 0 1 0 1 0 0 1 1 1 0 1 0 0 0 0 1 1 1 1 0 0 0 0 0 1 0 0 0\n",
      " 1 0 1 1 0 0 1 1 0 1 1 0 0 0 1 0 1 0 1 0 0 0 1 0 0 1 0 0 0 1 0 1 1 1 1 1 1\n",
      " 0 1 1 0 1 1 0 0 1 0 1 0 1 1 1]\n"
     ]
    }
   ],
   "source": [
    "print(y) # y stores the lables "
   ]
  },
  {
   "cell_type": "code",
   "execution_count": 6,
   "id": "b4a86215-428c-4a64-acd3-cfffa638b73c",
   "metadata": {},
   "outputs": [
    {
     "data": {
      "text/plain": [
       "(200,)"
      ]
     },
     "execution_count": 6,
     "metadata": {},
     "output_type": "execute_result"
    }
   ],
   "source": [
    "np.shape(y)"
   ]
  },
  {
   "cell_type": "code",
   "execution_count": 7,
   "id": "a4479ba3-05c9-4296-9812-6fa88bd50e23",
   "metadata": {},
   "outputs": [
    {
     "data": {
      "text/plain": [
       "(200, 2)"
      ]
     },
     "execution_count": 7,
     "metadata": {},
     "output_type": "execute_result"
    }
   ],
   "source": [
    "np.shape(x) # x stores all the data under two columns\n",
    "# print(x)"
   ]
  },
  {
   "cell_type": "markdown",
   "id": "9604ecb0-1791-4d1a-a9b6-ca784da9bb26",
   "metadata": {},
   "source": [
    "Now I need to some how  put these lables to the data in x and assign a color to them\n",
    "if y==0 -->> green\n",
    "if y==1 --->> blue"
   ]
  },
  {
   "cell_type": "code",
   "execution_count": 21,
   "id": "5ed96c99-3428-4e8b-9356-a924de243343",
   "metadata": {},
   "outputs": [
    {
     "data": {
      "image/png": "[encoded data removed]",
      "text/plain": [
       "<Figure size 640x480 with 1 Axes>"
      ]
     },
     "metadata": {},
     "output_type": "display_data"
    }
   ],
   "source": [
    "# plt.plot(x,y,color)\n",
    "plt.plot(x[:,0][y==0],x[:,1][y==0],\"g^\")\n",
    "plt.plot(x[:,0][y==1],x[:,1][y==1],\"bs\")\n",
    "plt.show()"
   ]
  },
  {
   "cell_type": "markdown",
   "id": "0725259e-09d0-4fba-a726-96292380c304",
   "metadata": {},
   "source": [
    "need to change the lable of y==0 to -1 (useful while multiplying the weights)"
   ]
  },
  {
   "cell_type": "code",
   "execution_count": 8,
   "id": "124a08b8-9370-460f-9a1a-00e30ca5b8cd",
   "metadata": {},
   "outputs": [],
   "source": [
    "y[y==0] = -1"
   ]
  },
  {
   "cell_type": "code",
   "execution_count": null,
   "id": "a89adbdd-2b1a-4746-b48c-90cafecea5f4",
   "metadata": {},
   "outputs": [],
   "source": [
    "ax+by+c=0\n",
    "y=-a/b x - c/b  "
   ]
  },
  {
   "cell_type": "markdown",
   "id": "4f9d4a57-5880-4695-9e41-da8d1496bba6",
   "metadata": {},
   "source": [
    "decision boundary draw plot"
   ]
  },
  {
   "cell_type": "code",
   "execution_count": 24,
   "id": "c43429f7-1a60-4d47-aac4-d9b930e14cad",
   "metadata": {},
   "outputs": [],
   "source": [
    "def show(w,w0,x,y):\n",
    "    slope = -w[0]/w[1]\n",
    "    intercept = -w0 / w[1]\n",
    "    hplane_x = np.arange(10)\n",
    "    hplane_y= slope * hplane_x + intercept\n",
    "    plt.plot(hplane_x,hplane_y)\n",
    "    plt.plot(x[:,0][y==-1],x[:,1][y==-1],\"bs\")\n",
    "    plt.plot(x[:, 0][y == 1], x[:, 1][y == 1], 'g^')\n",
    "    plt.show()"
   ]
  },
  {
   "cell_type": "markdown",
   "id": "6c17d2a1-0d77-417b-8237-a99cc431572d",
   "metadata": {},
   "source": [
    "Single point Algo"
   ]
  },
  {
   "cell_type": "code",
   "execution_count": null,
   "id": "e89b4d5e-96dd-47aa-853d-ebb2c2fb3805",
   "metadata": {},
   "outputs": [],
   "source": []
  },
  {
   "cell_type": "code",
   "execution_count": null,
   "id": "dc39ad35-78f3-4743-b624-e81c942b52d0",
   "metadata": {},
   "outputs": [],
   "source": []
  },
  {
   "cell_type": "code",
   "execution_count": null,
   "id": "ca9ebd50-329c-449c-974e-8473b884ee21",
   "metadata": {},
   "outputs": [],
   "source": []
  },
  {
   "cell_type": "code",
   "execution_count": null,
   "id": "4011c2d6-06ac-44c4-a68e-9034c65b6b9b",
   "metadata": {},
   "outputs": [],
   "source": []
  },
  {
   "cell_type": "code",
   "execution_count": null,
   "id": "db7f1c42-0383-479b-ae21-d00bf6a4decc",
   "metadata": {},
   "outputs": [],
   "source": []
  },
  {
   "cell_type": "code",
   "execution_count": null,
   "id": "1c48d036-4641-4235-b5d8-74d5ef76ac51",
   "metadata": {},
   "outputs": [],
   "source": []
  }
 ],
 "metadata": {
  "kernelspec": {
   "display_name": "Python 3 (ipykernel)",
   "language": "python",
   "name": "python3"
  },
  "language_info": {
   "codemirror_mode": {
    "name": "ipython",
    "version": 3
   },
   "file_extension": ".py",
   "mimetype": "text/x-python",
   "name": "python",
   "nbconvert_exporter": "python",
   "pygments_lexer": "ipython3",
   "version": "3.10.7"
  }
 },
 "nbformat": 4,
 "nbformat_minor": 5
}
